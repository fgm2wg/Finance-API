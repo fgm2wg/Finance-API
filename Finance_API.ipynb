{
  "nbformat": 4,
  "nbformat_minor": 0,
  "metadata": {
    "colab": {
      "provenance": []
    },
    "kernelspec": {
      "name": "python3",
      "display_name": "Python 3"
    },
    "language_info": {
      "name": "python"
    }
  },
  "cells": [
    {
      "cell_type": "code",
      "source": [
        "import json\n",
        "import requests\n",
        "import pandas as pd\n",
        "\n",
        "apikey = \"vfz0jx0R5n2aE4zGI1ZWs8uBERuCsRvH7PzSYWJL\"\n",
        "\n",
        "print(\"*** Task 1: Fetch Basic Stock Data ***\")\n",
        "stocks = input(\"Enter two or more stock symbols separated by commas: \")\n",
        "url = \"https://yfapi.net/v6/finance/quote\"\n",
        "\n",
        "querystring = {\"symbols\":stocks}\n",
        "\n",
        "headers = {\n",
        "    'x-api-key': apikey\n",
        "}\n",
        "\n",
        "response = requests.request(\"GET\", url, headers=headers, params=querystring)\n",
        "data = response.json()\n",
        "results = data.get(\"quoteResponse\", {}).get(\"result\", [])\n",
        "\n",
        "for stock in results:\n",
        "  ticker = stock.get(\"symbol\")\n",
        "  company = stock.get(\"shortName\")\n",
        "  price = stock.get(\"regularMarketPrice\")\n",
        "  print(f\"Stock Ticker: {ticker}, Company: {company}, Current Market Price: ${price}\")"
      ],
      "metadata": {
        "colab": {
          "base_uri": "https://localhost:8080/"
        },
        "id": "9dOfJu6UG1yA",
        "outputId": "f09d3556-9e5e-47d1-be83-a255232c3f7d"
      },
      "execution_count": 11,
      "outputs": [
        {
          "output_type": "stream",
          "name": "stdout",
          "text": [
            "*** Task 1: Fetch Basic Stock Data ***\n",
            "Enter two or more stock symbols separated by commas: AAPL\n",
            "Stock Ticker: AAPL, Company: Apple Inc., Current Market Price: $240.36\n"
          ]
        }
      ]
    },
    {
      "cell_type": "code",
      "source": [
        "print(\"*** Task 2.1: Fetch Additional Data Using Modules ***\")\n",
        "def call_module(symbol, module):\n",
        "    url = f\"https://yfapi.net/v11/finance/quoteSummary/{symbol}\"\n",
        "    params = {\"modules\": module}\n",
        "    resp = requests.get(url, headers=headers, params=params)\n",
        "    data = resp.json()\n",
        "    result = data.get(\"quoteSummary\", {}).get(\"result\", [])\n",
        "    if result:\n",
        "        return pd.json_normalize(result)\n",
        "    else:\n",
        "        return pd.DataFrame()\n",
        "\n",
        "symbol = input(\"Enter one stock symbol: \")\n",
        "module = input(\"Enter a module from the quoteSummary endpoint: \")\n",
        "\n",
        "df_summary = call_module(symbol, \"summaryDetail\")\n",
        "fiftyTwoWeekHigh = df_summary[\"summaryDetail.fiftyTwoWeekHigh.fmt\"].iloc[0] if \"summaryDetail.fiftyTwoWeekHigh.fmt\" in df_summary.columns else \"N/A\"\n",
        "fiftyTwoWeekLow = df_summary[\"summaryDetail.fiftyTwoWeekLow.fmt\"].iloc[0] if \"summaryDetail.fiftyTwoWeekLow.fmt\" in df_summary.columns else \"N/A\"\n",
        "\n",
        "df_financial = call_module(symbol, \"financialData\")\n",
        "returnOnAssets = df_financial[\"financialData.returnOnAssets.fmt\"].iloc[0] if \"financialData.returnOnAssets.fmt\" in df_financial.columns else \"N/A\"\n",
        "\n",
        "df_user = call_module(symbol, module)\n",
        "\n",
        "data = { \"52 Week High\": [fiftyTwoWeekHigh], \"52 Week Low\": [fiftyTwoWeekLow], \"Return on Assets (ROA)\": [returnOnAssets]}\n",
        "df = pd.DataFrame(data)\n",
        "\n",
        "print(df)\n",
        "print(\"\\n\", df_user)"
      ],
      "metadata": {
        "colab": {
          "base_uri": "https://localhost:8080/"
        },
        "id": "XMm8lvPvKxz0",
        "outputId": "5bfe13db-3e03-4e37-866d-d86b4ba83fb5"
      },
      "execution_count": 12,
      "outputs": [
        {
          "output_type": "stream",
          "name": "stdout",
          "text": [
            "*** Task 2.1: Fetch Additional Data Using Modules ***\n",
            "Enter one stock symbol: NVDA\n",
            "Enter a module from the quoteSummary endpoint: assetProfile\n",
            "  52 Week High 52 Week Low Return on Assets (ROA)\n",
            "0       153.13       75.61                 59.13%\n",
            "\n",
            "        assetProfile.address1 assetProfile.city assetProfile.state  \\\n",
            "0  2788 San Tomas Expressway       Santa Clara                 CA   \n",
            "\n",
            "  assetProfile.zip assetProfile.country assetProfile.phone  \\\n",
            "0            95051        United States     (408) 486-2000   \n",
            "\n",
            "     assetProfile.website assetProfile.industry assetProfile.industryKey  \\\n",
            "0  https://www.nvidia.com        Semiconductors           semiconductors   \n",
            "\n",
            "  assetProfile.industryDisp  ... assetProfile.auditRisk  \\\n",
            "0            Semiconductors  ...                      9   \n",
            "\n",
            "  assetProfile.boardRisk assetProfile.compensationRisk  \\\n",
            "0                     10                             3   \n",
            "\n",
            "  assetProfile.shareHolderRightsRisk  assetProfile.overallRisk  \\\n",
            "0                                  6                         8   \n",
            "\n",
            "  assetProfile.governanceEpochDate  assetProfile.compensationAsOfEpochDate  \\\n",
            "0                       1738368000                              1735603200   \n",
            "\n",
            "                              assetProfile.irWebsite  \\\n",
            "0  http://phx.corporate-ir.net/phoenix.zhtml?c=11...   \n",
            "\n",
            "   assetProfile.executiveTeam  assetProfile.maxAge  \n",
            "0                          []                86400  \n",
            "\n",
            "[1 rows x 26 columns]\n"
          ]
        }
      ]
    },
    {
      "cell_type": "code",
      "source": [
        "print(\"*** Task 2.2: Fetch Additional Data Using Modules ***\")\n",
        "trending_url = \"https://yfapi.net/v1/finance/trending/US\"\n",
        "response = requests.get(trending_url, headers=headers)\n",
        "trending_data = response.json()\n",
        "\n",
        "quotes = trending_data.get(\"finance\", {}).get(\"result\", [])\n",
        "if quotes:\n",
        "    quotes = quotes[0].get(\"quotes\", [])\n",
        "else:\n",
        "    quotes = []\n",
        "\n",
        "if not quotes:\n",
        "    print(\"No trending stocks data available.\")\n",
        "else:\n",
        "    trending_list = []\n",
        "    for stock in quotes:\n",
        "        ticker = stock.get(\"symbol\")\n",
        "\n",
        "        quote_url = \"https://yfapi.net/v6/finance/quote\"\n",
        "        quote_query = {\"symbols\": ticker}\n",
        "        quote_resp = requests.get(quote_url, headers=headers, params=quote_query)\n",
        "        quote_data = quote_resp.json().get(\"quoteResponse\", {}).get(\"result\", [])\n",
        "\n",
        "        if quote_data:\n",
        "            quote_info = quote_data[0]\n",
        "            name = quote_info.get(\"shortName\")\n",
        "            current_price = quote_info.get(\"regularMarketPrice\")\n",
        "            current_price = f\"${float(current_price):,.2f}\" or \"N/A\"\n",
        "        else:\n",
        "            name = \"N/A\"\n",
        "            current_price = \"N/A\"\n",
        "\n",
        "        summary_url = f\"https://yfapi.net/v11/finance/quoteSummary/{ticker}\"\n",
        "        summary_query = {\"modules\": \"summaryDetail\"}\n",
        "        summary_resp = requests.get(summary_url, headers=headers, params=summary_query)\n",
        "        summary_data = summary_resp.json()\n",
        "        summary_result = summary_data.get(\"quoteSummary\", {}).get(\"result\", [])\n",
        "\n",
        "        if summary_result:\n",
        "            summary_df = pd.json_normalize(summary_result)\n",
        "            fiftyTwoWeekHigh = summary_df[\"summaryDetail.fiftyTwoWeekHigh.fmt\"].iloc[0] if \"summaryDetail.fiftyTwoWeekHigh.fmt\" in summary_df.columns else \"N/A\"\n",
        "            fiftyTwoWeekLow = summary_df[\"summaryDetail.fiftyTwoWeekLow.fmt\"].iloc[0] if \"summaryDetail.fiftyTwoWeekLow.fmt\" in summary_df.columns else \"N/A\"\n",
        "        else:\n",
        "            fiftyTwoWeekHigh = \"N/A\"\n",
        "            fiftyTwoWeekLow = \"N/A\"\n",
        "\n",
        "        trending_list.append({\n",
        "            \"Ticker\": ticker,\n",
        "            \"Name\": name,\n",
        "            \"Current Price\": current_price,\n",
        "            \"52 Week High\": fiftyTwoWeekHigh,\n",
        "            \"52 Week Low\": fiftyTwoWeekLow\n",
        "        })\n",
        "\n",
        "    trending_df = pd.DataFrame(trending_list)\n",
        "    print(\"\\nTrending Stocks Data:\")\n",
        "    print(trending_df)"
      ],
      "metadata": {
        "colab": {
          "base_uri": "https://localhost:8080/"
        },
        "id": "WCDmus3_K0zq",
        "outputId": "5082517e-f003-4780-a3c3-90d1cbc31b5d"
      },
      "execution_count": 13,
      "outputs": [
        {
          "output_type": "stream",
          "name": "stdout",
          "text": [
            "*** Task 2.2: Fetch Additional Data Using Modules ***\n",
            "\n",
            "Trending Stocks Data:\n",
            "   Ticker                             Name Current Price 52 Week High  \\\n",
            "0    NVDA               NVIDIA Corporation       $131.28       153.13   \n",
            "1     CRM                 Salesforce, Inc.       $307.33       369.00   \n",
            "2    SNOW                   Snowflake Inc.       $166.19       233.88   \n",
            "3    IONQ                       IonQ, Inc.        $29.93        54.74   \n",
            "4    BYND                Beyond Meat, Inc.         $3.56      12.1200   \n",
            "5     APP             Applovin Corporation       $331.00       525.15   \n",
            "6    EBAY                        eBay Inc.        $69.14        71.61   \n",
            "7      AI                      C3.ai, Inc.        $26.44        45.08   \n",
            "8     NIO                         NIO Inc.         $4.72       7.7100   \n",
            "9    SNPS                   Synopsys, Inc.       $470.46       624.80   \n",
            "10   MULN          Mullen Automotive, Inc.         $4.04  47,100.0000   \n",
            "11   NTNX                    Nutanix, Inc.        $69.35        75.80   \n",
            "12   MARA              MARA Holdings, Inc.        $12.45        34.09   \n",
            "13   TDOC             Teladoc Health, Inc.        $10.99        15.95   \n",
            "14   JOBY              Joby Aviation, Inc.         $6.70        10.72   \n",
            "15   PSTG               Pure Storage, Inc.        $62.44        73.67   \n",
            "16     SG                 Sweetgreen, Inc.        $23.14        45.12   \n",
            "17   ROOT                       Root, Inc.        $98.71       141.23   \n",
            "18    APA                  APA Corporation        $22.01        36.05   \n",
            "19   NVDL  GraniteShares 2x Long NVDA Dail        $57.64        91.70   \n",
            "\n",
            "   52 Week Low  \n",
            "0        75.61  \n",
            "1       212.00  \n",
            "2       107.13  \n",
            "3         6.22  \n",
            "4       3.3000  \n",
            "5        57.40  \n",
            "6        46.53  \n",
            "7        18.85  \n",
            "8       3.6100  \n",
            "9       457.00  \n",
            "10      2.2900  \n",
            "11       43.35  \n",
            "12       12.05  \n",
            "13        6.76  \n",
            "14        4.50  \n",
            "15       40.95  \n",
            "16       11.84  \n",
            "17       23.04  \n",
            "18       20.32  \n",
            "19       28.29  \n"
          ]
        }
      ]
    }
  ]
}